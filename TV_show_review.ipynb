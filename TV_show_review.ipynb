{
 "cells": [
  {
   "cell_type": "markdown",
   "id": "5447c4da",
   "metadata": {},
   "source": [
    "# Friends - Sitcom Series "
   ]
  },
  {
   "cell_type": "code",
   "execution_count": null,
   "id": "7b668500",
   "metadata": {},
   "outputs": [],
   "source": []
  },
  {
   "cell_type": "markdown",
   "id": "c800da75",
   "metadata": {},
   "source": [
    "## Introduction"
   ]
  },
  {
   "cell_type": "markdown",
   "id": "abb7f2ee",
   "metadata": {},
   "source": [
    "The American sitcom **Friends** was created by David Crane and Marta Kauffman, and produced by Bright/Kauffman/Crane Productions in association with Warner Bros. Television Studios for NBC. The show revolves around six friends living in New York City, dealing with various aspects of life, love, and friendship.\\\n",
    "_Source: Wikipedia_"
   ]
  },
  {
   "cell_type": "markdown",
   "id": "5ad6527e",
   "metadata": {},
   "source": [
    "## Basic Statistics"
   ]
  },
  {
   "cell_type": "markdown",
   "id": "4b19f03d",
   "metadata": {},
   "source": [
    "The series began with the pilot episode, which was broadcast on September 22, 1994; the series finished its ten-season run with the series finale on May 6, 2004, with 236 episodes. On average, the episodes are 22–23 minutes long, for a 30-minute time slot including commercial breaks."
   ]
  },
  {
   "cell_type": "markdown",
   "id": "11587c99",
   "metadata": {},
   "source": [
    "| Season | Episode | First Aired | Last Aired | Rating | Viewers (millions) |\n",
    "|--------|---------|-------------|------------|--------|---------------------|\n",
    "| 1      | 1       | Sept 22, 1994 | May 18, 1995 | 8.9/10 | 21.5 |\n",
    "| 2      | 1       | Sept 22, 1994 | May 18, 1995 | 8.9/10 | 21.5 |\n",
    "| 3      | 1       | Sept 22, 1994 | May 18, 1995 | 8.9/10 | 21.5 |\n",
    "| 4      | 1       | Sept 22, 1994 | May 18, 1995 | 8.9/10 | 21.5 |\n",
    "| 5      | 1       | Sept 22, 1994 | May 18, 1995 | 8.9/10 | 21.5 |\n",
    "| 6      | 1       | Sept 22, 1994 | May 18, 1995 | 8.9/10 | 21.5 |\n",
    "| 7      | 1       | Sept 22, 1994 | May 18, 1995 | 8.9/10 | 21.5 |\n",
    "| 8      | 1       | Sept 22, 1994 | May 18, 1995 | 8.9/10 | 21.5 |\n",
    "| 9      | 1       | Sept 22, 1994 | May 18, 1995 | 8.9/10 | 21.5 |\n",
    "| 10      | 1       | Sept 22, 1994 | May 18, 1995 | 8.9/10 | 21.5 |\n"
   ]
  }
 ],
 "metadata": {
  "kernelspec": {
   "display_name": "Python 3 (ipykernel)",
   "language": "python",
   "name": "python3"
  },
  "language_info": {
   "codemirror_mode": {
    "name": "ipython",
    "version": 3
   },
   "file_extension": ".py",
   "mimetype": "text/x-python",
   "name": "python",
   "nbconvert_exporter": "python",
   "pygments_lexer": "ipython3",
   "version": "3.11.5"
  }
 },
 "nbformat": 4,
 "nbformat_minor": 5
}
