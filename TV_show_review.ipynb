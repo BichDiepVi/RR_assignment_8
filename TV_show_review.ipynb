{
 "cells": [
  {
   "cell_type": "markdown",
   "id": "79d3b4bf",
   "metadata": {},
   "source": [
    "![Friend Logo](https://upload.wikimedia.org/wikipedia/commons/b/bc/Friends_logo.svg)"
   ]
  },
  {
   "cell_type": "markdown",
   "id": "da027f12",
   "metadata": {},
   "source": [
    "# Friends - Sitcom Series "
   ]
  },
  {
   "cell_type": "markdown",
   "id": "65e9d8f4",
   "metadata": {},
   "source": [
    "## Introduction"
   ]
  },
  {
   "cell_type": "markdown",
   "id": "73a7d567",
   "metadata": {},
   "source": [
    "The American sitcom **Friends** was created by David Crane and Marta Kauffman, and produced by Bright/Kauffman/Crane Productions in association with Warner Bros. Television Studios for NBC. The show revolves around six friends living in New York City, dealing with various aspects of life, love, and friendship.\n",
    "\n",
    "![Friend Logo](https://m.media-amazon.com/images/S/pv-target-images/e56c18e08e0a07c8d4ee65f45be64cefe6b070992a84182dd5ba35eb7cfc6510.jpg)"
   ]
  },
  {
   "cell_type": "markdown",
   "id": "386d343c",
   "metadata": {},
   "source": [
    "## Basic Statistics"
   ]
  },
  {
   "cell_type": "markdown",
   "id": "9e562464",
   "metadata": {},
   "source": [
    "The series began with the pilot episode, which was broadcast on September 22, 1994; the series finished its ten-season run with the series finale on May 6, 2004, with 236 episodes. On average, the episodes are 22–23 minutes long, for a 30-minute time slot including commercial breaks."
   ]
  },
  {
   "cell_type": "markdown",
   "id": "70d9134a",
   "metadata": {},
   "source": [
    "| Season | Episode | First Aired | Last Aired | Rating | Viewers (millions) |\n",
    "|--------|---------|-------------|------------|--------|---------------------|\n",
    "| 1      | 24       | Sep 22, 1994 | May 18, 1995 | 15.6 | 24.8 |\n",
    "| 2      | 24       | Sep 21, 1995 | May 16, 1996 | 18.7 | 31.7 |\n",
    "| 3      | 25       | Sep 19, 1996 | May 15, 1997 | 16.8 | 26.1 |\n",
    "| 4      | 24       | Sep 25, 1997 | May 7, 1998 | 16.1 | 25.0 |\n",
    "| 5      | 24       | Sep 24, 1998 | May 20, 1999 | 15.7 | 24.7 |\n",
    "| 6      | 25       | Sep 23, 1999 | May 18, 2000 | 14.0 | 22.6 |\n",
    "| 7      | 24       | Oct 12, 2000 | May 17, 2001 | 12.6 | 22.1 |\n",
    "| 8      | 24       | Sep 27, 2001 | May 16, 2002 | 15.0 | 26.4 |\n",
    "| 9      | 24       | Sep 26, 2002 | May 15, 2003 | 13.5 | 23.9 |\n",
    "| 10      | 18       | Sep 25, 2003 | May 6, 2004 | 13.6 | 24.6 |\n"
   ]
  },
  {
   "cell_type": "code",
   "execution_count": null,
   "id": "201bcb44",
   "metadata": {},
   "outputs": [],
   "source": []
  },
  {
   "cell_type": "code",
   "execution_count": null,
   "id": "0c520124",
   "metadata": {},
   "outputs": [],
   "source": []
  },
  {
   "cell_type": "code",
   "execution_count": null,
   "id": "d31472f0",
   "metadata": {},
   "outputs": [],
   "source": []
  },
  {
   "cell_type": "code",
   "execution_count": null,
   "id": "f9cbc69b",
   "metadata": {},
   "outputs": [],
   "source": []
  }
 ],
 "metadata": {
  "kernelspec": {
   "display_name": "Python 3 (ipykernel)",
   "language": "python",
   "name": "python3"
  },
  "language_info": {
   "codemirror_mode": {
    "name": "ipython",
    "version": 3
   },
   "file_extension": ".py",
   "mimetype": "text/x-python",
   "name": "python",
   "nbconvert_exporter": "python",
   "pygments_lexer": "ipython3",
   "version": "3.11.5"
  }
 },
 "nbformat": 4,
 "nbformat_minor": 5
}
